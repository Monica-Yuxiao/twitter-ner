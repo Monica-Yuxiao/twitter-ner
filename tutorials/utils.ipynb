{
 "cells": [
  {
   "cell_type": "code",
   "execution_count": 4,
   "metadata": {},
   "outputs": [],
   "source": [
    "import torch\n",
    "import torch.nn as nn\n",
    "from torch.autograd import Variable\n",
    "from torch.optim import Adam"
   ]
  },
  {
   "cell_type": "code",
   "execution_count": 1,
   "metadata": {},
   "outputs": [],
   "source": [
    "class train():\n",
    "    def _init_(self):\n",
    "        pass\n",
    "    \n",
    "    def crf_train_loop(self, model, rolls, targets, n_epochs, learning_rate=0.01):\n",
    "\n",
    "        optimizer = Adam(model.parameters(), lr=learning_rate,\n",
    "                         weight_decay=1e-4)\n",
    "\n",
    "        for epoch in range(n_epochs):\n",
    "            batch_loss = []\n",
    "            N = rolls.shape[0]\n",
    "            model.zero_grad()\n",
    "            for index, (roll, labels) in enumerate(zip(rolls, targets)):\n",
    "                # Forward Pass\n",
    "                neg_log_likelihood = model.neg_log_likelihood(roll, labels)\n",
    "                batch_loss.append(neg_log_likelihood)\n",
    "\n",
    "                if index % 50 == 0:\n",
    "                    ll = torch.cat(batch_loss).mean()\n",
    "                    ll.backward()\n",
    "                    optimizer.step()\n",
    "                    print(\"Epoch {}: Batch {}/{} loss is {:.4f}\".format(epoch, index//50,N//50,ll.data.numpy()[0]))\n",
    "                    batch_loss = []\n",
    "\n",
    "        return model"
   ]
  },
  {
   "cell_type": "code",
   "execution_count": null,
   "metadata": {},
   "outputs": [],
   "source": []
  }
 ],
 "metadata": {
  "kernelspec": {
   "display_name": "Python [conda env:anaconda]",
   "language": "python",
   "name": "conda-env-anaconda-py"
  },
  "language_info": {
   "codemirror_mode": {
    "name": "ipython",
    "version": 3
   },
   "file_extension": ".py",
   "mimetype": "text/x-python",
   "name": "python",
   "nbconvert_exporter": "python",
   "pygments_lexer": "ipython3",
   "version": "3.5.6"
  }
 },
 "nbformat": 4,
 "nbformat_minor": 2
}
